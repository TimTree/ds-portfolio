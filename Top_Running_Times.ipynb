{
  "nbformat": 4,
  "nbformat_minor": 0,
  "metadata": {
    "colab": {
      "name": "Top Running Times.ipynb",
      "provenance": [],
      "include_colab_link": true
    },
    "kernelspec": {
      "name": "python3",
      "display_name": "Python 3"
    }
  },
  "cells": [
    {
      "cell_type": "markdown",
      "metadata": {
        "id": "view-in-github",
        "colab_type": "text"
      },
      "source": [
        "<a href=\"https://colab.research.google.com/github/TimTree/ds-portfolio/blob/master/Top_Running_Times.ipynb\" target=\"_parent\"><img src=\"https://colab.research.google.com/assets/colab-badge.svg\" alt=\"Open In Colab\"/></a>"
      ]
    },
    {
      "cell_type": "code",
      "metadata": {
        "id": "yWIb9sTq5g8S",
        "colab_type": "code",
        "colab": {}
      },
      "source": [
        "#from google.colab import files\n",
        "#uploaded = files.upload()"
      ],
      "execution_count": 0,
      "outputs": []
    },
    {
      "cell_type": "code",
      "metadata": {
        "id": "QS1KrtOP6NKg",
        "colab_type": "code",
        "colab": {}
      },
      "source": [
        "import pandas as pd\n",
        "df = pd.read_csv('data.csv')"
      ],
      "execution_count": 0,
      "outputs": []
    },
    {
      "cell_type": "code",
      "metadata": {
        "id": "5RT9EQyQ6chY",
        "colab_type": "code",
        "outputId": "add25f37-2abc-4e60-9cfc-0b69358a8772",
        "colab": {
          "base_uri": "https://localhost:8080/",
          "height": 206
        }
      },
      "source": [
        "df.head()"
      ],
      "execution_count": 3,
      "outputs": [
        {
          "output_type": "execute_result",
          "data": {
            "text/html": [
              "<div>\n",
              "<style scoped>\n",
              "    .dataframe tbody tr th:only-of-type {\n",
              "        vertical-align: middle;\n",
              "    }\n",
              "\n",
              "    .dataframe tbody tr th {\n",
              "        vertical-align: top;\n",
              "    }\n",
              "\n",
              "    .dataframe thead th {\n",
              "        text-align: right;\n",
              "    }\n",
              "</style>\n",
              "<table border=\"1\" class=\"dataframe\">\n",
              "  <thead>\n",
              "    <tr style=\"text-align: right;\">\n",
              "      <th></th>\n",
              "      <th>Rank</th>\n",
              "      <th>Time</th>\n",
              "      <th>Name</th>\n",
              "      <th>Country</th>\n",
              "      <th>Date of Birth</th>\n",
              "      <th>Place</th>\n",
              "      <th>City</th>\n",
              "      <th>Date</th>\n",
              "      <th>Gender</th>\n",
              "      <th>Event</th>\n",
              "    </tr>\n",
              "  </thead>\n",
              "  <tbody>\n",
              "    <tr>\n",
              "      <th>0</th>\n",
              "      <td>1</td>\n",
              "      <td>00:01:40.910000</td>\n",
              "      <td>David Rudisha</td>\n",
              "      <td>KEN</td>\n",
              "      <td>1988-12-17</td>\n",
              "      <td>1.0</td>\n",
              "      <td>London</td>\n",
              "      <td>2012-09-08</td>\n",
              "      <td>Men</td>\n",
              "      <td>800 m</td>\n",
              "    </tr>\n",
              "    <tr>\n",
              "      <th>1</th>\n",
              "      <td>2</td>\n",
              "      <td>00:01:41.010000</td>\n",
              "      <td>David Rudisha</td>\n",
              "      <td>KEN</td>\n",
              "      <td>1988-12-17</td>\n",
              "      <td>1.0</td>\n",
              "      <td>Rieti</td>\n",
              "      <td>2010-08-29</td>\n",
              "      <td>Men</td>\n",
              "      <td>800 m</td>\n",
              "    </tr>\n",
              "    <tr>\n",
              "      <th>2</th>\n",
              "      <td>3</td>\n",
              "      <td>00:01:41.090000</td>\n",
              "      <td>David Rudisha</td>\n",
              "      <td>KEN</td>\n",
              "      <td>1988-12-17</td>\n",
              "      <td>1.0</td>\n",
              "      <td>Berlin</td>\n",
              "      <td>2010-08-22</td>\n",
              "      <td>Men</td>\n",
              "      <td>800 m</td>\n",
              "    </tr>\n",
              "    <tr>\n",
              "      <th>3</th>\n",
              "      <td>4</td>\n",
              "      <td>00:01:41.110000</td>\n",
              "      <td>Wilson Kipketer</td>\n",
              "      <td>DEN</td>\n",
              "      <td>1970-12-12</td>\n",
              "      <td>1.0</td>\n",
              "      <td>Köln</td>\n",
              "      <td>1997-08-24</td>\n",
              "      <td>Men</td>\n",
              "      <td>800 m</td>\n",
              "    </tr>\n",
              "    <tr>\n",
              "      <th>4</th>\n",
              "      <td>5</td>\n",
              "      <td>00:01:41.240000</td>\n",
              "      <td>Wilson Kipketer</td>\n",
              "      <td>DEN</td>\n",
              "      <td>1970-12-12</td>\n",
              "      <td>1.0</td>\n",
              "      <td>Zürich</td>\n",
              "      <td>1997-08-13</td>\n",
              "      <td>Men</td>\n",
              "      <td>800 m</td>\n",
              "    </tr>\n",
              "  </tbody>\n",
              "</table>\n",
              "</div>"
            ],
            "text/plain": [
              "   Rank             Time             Name  ...        Date Gender  Event\n",
              "0     1  00:01:40.910000    David Rudisha  ...  2012-09-08    Men  800 m\n",
              "1     2  00:01:41.010000    David Rudisha  ...  2010-08-29    Men  800 m\n",
              "2     3  00:01:41.090000    David Rudisha  ...  2010-08-22    Men  800 m\n",
              "3     4  00:01:41.110000  Wilson Kipketer  ...  1997-08-24    Men  800 m\n",
              "4     5  00:01:41.240000  Wilson Kipketer  ...  1997-08-13    Men  800 m\n",
              "\n",
              "[5 rows x 10 columns]"
            ]
          },
          "metadata": {
            "tags": []
          },
          "execution_count": 3
        }
      ]
    },
    {
      "cell_type": "code",
      "metadata": {
        "id": "3oH2RdwQ6epJ",
        "colab_type": "code",
        "outputId": "8e3d1ca0-be14-4d7a-8de6-2d11bcbbeeb7",
        "colab": {
          "base_uri": "https://localhost:8080/",
          "height": 34
        }
      },
      "source": [
        "df.shape"
      ],
      "execution_count": 4,
      "outputs": [
        {
          "output_type": "execute_result",
          "data": {
            "text/plain": [
              "(18244, 10)"
            ]
          },
          "metadata": {
            "tags": []
          },
          "execution_count": 4
        }
      ]
    },
    {
      "cell_type": "code",
      "metadata": {
        "id": "ViZ5FcJ56hL5",
        "colab_type": "code",
        "outputId": "5c03fd25-eb6d-4659-cab0-d66705b33991",
        "colab": {
          "base_uri": "https://localhost:8080/",
          "height": 206
        }
      },
      "source": [
        "df.tail()"
      ],
      "execution_count": 5,
      "outputs": [
        {
          "output_type": "execute_result",
          "data": {
            "text/html": [
              "<div>\n",
              "<style scoped>\n",
              "    .dataframe tbody tr th:only-of-type {\n",
              "        vertical-align: middle;\n",
              "    }\n",
              "\n",
              "    .dataframe tbody tr th {\n",
              "        vertical-align: top;\n",
              "    }\n",
              "\n",
              "    .dataframe thead th {\n",
              "        text-align: right;\n",
              "    }\n",
              "</style>\n",
              "<table border=\"1\" class=\"dataframe\">\n",
              "  <thead>\n",
              "    <tr style=\"text-align: right;\">\n",
              "      <th></th>\n",
              "      <th>Rank</th>\n",
              "      <th>Time</th>\n",
              "      <th>Name</th>\n",
              "      <th>Country</th>\n",
              "      <th>Date of Birth</th>\n",
              "      <th>Place</th>\n",
              "      <th>City</th>\n",
              "      <th>Date</th>\n",
              "      <th>Gender</th>\n",
              "      <th>Event</th>\n",
              "    </tr>\n",
              "  </thead>\n",
              "  <tbody>\n",
              "    <tr>\n",
              "      <th>18239</th>\n",
              "      <td>1000</td>\n",
              "      <td>00:03:33.250000</td>\n",
              "      <td>Noureddine Morceli</td>\n",
              "      <td>ALG</td>\n",
              "      <td>1970-02-28</td>\n",
              "      <td>1.0</td>\n",
              "      <td>Moskva</td>\n",
              "      <td>1995-06-05</td>\n",
              "      <td>Men</td>\n",
              "      <td>1500 m</td>\n",
              "    </tr>\n",
              "    <tr>\n",
              "      <th>18240</th>\n",
              "      <td>1000</td>\n",
              "      <td>00:03:33.250000</td>\n",
              "      <td>Paul Korir</td>\n",
              "      <td>KEN</td>\n",
              "      <td>1977-07-15</td>\n",
              "      <td>5.0</td>\n",
              "      <td>Zürich</td>\n",
              "      <td>2003-08-15</td>\n",
              "      <td>Men</td>\n",
              "      <td>1500 m</td>\n",
              "    </tr>\n",
              "    <tr>\n",
              "      <th>18241</th>\n",
              "      <td>1000</td>\n",
              "      <td>00:03:33.250000</td>\n",
              "      <td>Hudson Santos de Souza</td>\n",
              "      <td>BRA</td>\n",
              "      <td>1977-02-25</td>\n",
              "      <td>5.0</td>\n",
              "      <td>Rieti</td>\n",
              "      <td>2005-08-28</td>\n",
              "      <td>Men</td>\n",
              "      <td>1500 m</td>\n",
              "    </tr>\n",
              "    <tr>\n",
              "      <th>18242</th>\n",
              "      <td>1000</td>\n",
              "      <td>00:03:33.250000</td>\n",
              "      <td>Issac Songok</td>\n",
              "      <td>KEN</td>\n",
              "      <td>1984-04-25</td>\n",
              "      <td>2.0</td>\n",
              "      <td>Stockholm</td>\n",
              "      <td>2006-07-25</td>\n",
              "      <td>Men</td>\n",
              "      <td>1500 m</td>\n",
              "    </tr>\n",
              "    <tr>\n",
              "      <th>18243</th>\n",
              "      <td>1000</td>\n",
              "      <td>00:03:33.250000</td>\n",
              "      <td>Bethwell Birgen</td>\n",
              "      <td>KEN</td>\n",
              "      <td>1988-08-06</td>\n",
              "      <td>7.0</td>\n",
              "      <td>Lausanne</td>\n",
              "      <td>2012-08-23</td>\n",
              "      <td>Men</td>\n",
              "      <td>1500 m</td>\n",
              "    </tr>\n",
              "  </tbody>\n",
              "</table>\n",
              "</div>"
            ],
            "text/plain": [
              "       Rank             Time                    Name  ...        Date Gender   Event\n",
              "18239  1000  00:03:33.250000      Noureddine Morceli  ...  1995-06-05    Men  1500 m\n",
              "18240  1000  00:03:33.250000              Paul Korir  ...  2003-08-15    Men  1500 m\n",
              "18241  1000  00:03:33.250000  Hudson Santos de Souza  ...  2005-08-28    Men  1500 m\n",
              "18242  1000  00:03:33.250000            Issac Songok  ...  2006-07-25    Men  1500 m\n",
              "18243  1000  00:03:33.250000         Bethwell Birgen  ...  2012-08-23    Men  1500 m\n",
              "\n",
              "[5 rows x 10 columns]"
            ]
          },
          "metadata": {
            "tags": []
          },
          "execution_count": 5
        }
      ]
    },
    {
      "cell_type": "code",
      "metadata": {
        "id": "hAVYlDOW6q6v",
        "colab_type": "code",
        "outputId": "f0945117-ad04-4f13-c65b-425f4833fc96",
        "colab": {
          "base_uri": "https://localhost:8080/",
          "height": 208
        }
      },
      "source": [
        "df.isna().sum()"
      ],
      "execution_count": 6,
      "outputs": [
        {
          "output_type": "execute_result",
          "data": {
            "text/plain": [
              "Rank             0\n",
              "Time             0\n",
              "Name             0\n",
              "Country          0\n",
              "Date of Birth    0\n",
              "Place            8\n",
              "City             0\n",
              "Date             0\n",
              "Gender           0\n",
              "Event            0\n",
              "dtype: int64"
            ]
          },
          "metadata": {
            "tags": []
          },
          "execution_count": 6
        }
      ]
    },
    {
      "cell_type": "code",
      "metadata": {
        "id": "CV9Ehtrz6uP9",
        "colab_type": "code",
        "outputId": "76b170b1-4a58-42d6-83d3-ae06a7225752",
        "colab": {
          "base_uri": "https://localhost:8080/",
          "height": 208
        }
      },
      "source": [
        "df.dtypes"
      ],
      "execution_count": 7,
      "outputs": [
        {
          "output_type": "execute_result",
          "data": {
            "text/plain": [
              "Rank               int64\n",
              "Time              object\n",
              "Name              object\n",
              "Country           object\n",
              "Date of Birth     object\n",
              "Place            float64\n",
              "City              object\n",
              "Date              object\n",
              "Gender            object\n",
              "Event             object\n",
              "dtype: object"
            ]
          },
          "metadata": {
            "tags": []
          },
          "execution_count": 7
        }
      ]
    },
    {
      "cell_type": "code",
      "metadata": {
        "id": "n-8gHa8aLnXk",
        "colab_type": "code",
        "colab": {}
      },
      "source": [
        "df['Time'] = pd.to_datetime(df['Time'], unit='ns').dt.time"
      ],
      "execution_count": 0,
      "outputs": []
    },
    {
      "cell_type": "code",
      "metadata": {
        "id": "TVwFsxHeL9Nr",
        "colab_type": "code",
        "outputId": "4c43bf63-b4ee-4a23-a9ce-bbc0db6b47aa",
        "colab": {
          "base_uri": "https://localhost:8080/",
          "height": 206
        }
      },
      "source": [
        "df.head()"
      ],
      "execution_count": 9,
      "outputs": [
        {
          "output_type": "execute_result",
          "data": {
            "text/html": [
              "<div>\n",
              "<style scoped>\n",
              "    .dataframe tbody tr th:only-of-type {\n",
              "        vertical-align: middle;\n",
              "    }\n",
              "\n",
              "    .dataframe tbody tr th {\n",
              "        vertical-align: top;\n",
              "    }\n",
              "\n",
              "    .dataframe thead th {\n",
              "        text-align: right;\n",
              "    }\n",
              "</style>\n",
              "<table border=\"1\" class=\"dataframe\">\n",
              "  <thead>\n",
              "    <tr style=\"text-align: right;\">\n",
              "      <th></th>\n",
              "      <th>Rank</th>\n",
              "      <th>Time</th>\n",
              "      <th>Name</th>\n",
              "      <th>Country</th>\n",
              "      <th>Date of Birth</th>\n",
              "      <th>Place</th>\n",
              "      <th>City</th>\n",
              "      <th>Date</th>\n",
              "      <th>Gender</th>\n",
              "      <th>Event</th>\n",
              "    </tr>\n",
              "  </thead>\n",
              "  <tbody>\n",
              "    <tr>\n",
              "      <th>0</th>\n",
              "      <td>1</td>\n",
              "      <td>00:01:40.910000</td>\n",
              "      <td>David Rudisha</td>\n",
              "      <td>KEN</td>\n",
              "      <td>1988-12-17</td>\n",
              "      <td>1.0</td>\n",
              "      <td>London</td>\n",
              "      <td>2012-09-08</td>\n",
              "      <td>Men</td>\n",
              "      <td>800 m</td>\n",
              "    </tr>\n",
              "    <tr>\n",
              "      <th>1</th>\n",
              "      <td>2</td>\n",
              "      <td>00:01:41.010000</td>\n",
              "      <td>David Rudisha</td>\n",
              "      <td>KEN</td>\n",
              "      <td>1988-12-17</td>\n",
              "      <td>1.0</td>\n",
              "      <td>Rieti</td>\n",
              "      <td>2010-08-29</td>\n",
              "      <td>Men</td>\n",
              "      <td>800 m</td>\n",
              "    </tr>\n",
              "    <tr>\n",
              "      <th>2</th>\n",
              "      <td>3</td>\n",
              "      <td>00:01:41.090000</td>\n",
              "      <td>David Rudisha</td>\n",
              "      <td>KEN</td>\n",
              "      <td>1988-12-17</td>\n",
              "      <td>1.0</td>\n",
              "      <td>Berlin</td>\n",
              "      <td>2010-08-22</td>\n",
              "      <td>Men</td>\n",
              "      <td>800 m</td>\n",
              "    </tr>\n",
              "    <tr>\n",
              "      <th>3</th>\n",
              "      <td>4</td>\n",
              "      <td>00:01:41.110000</td>\n",
              "      <td>Wilson Kipketer</td>\n",
              "      <td>DEN</td>\n",
              "      <td>1970-12-12</td>\n",
              "      <td>1.0</td>\n",
              "      <td>Köln</td>\n",
              "      <td>1997-08-24</td>\n",
              "      <td>Men</td>\n",
              "      <td>800 m</td>\n",
              "    </tr>\n",
              "    <tr>\n",
              "      <th>4</th>\n",
              "      <td>5</td>\n",
              "      <td>00:01:41.240000</td>\n",
              "      <td>Wilson Kipketer</td>\n",
              "      <td>DEN</td>\n",
              "      <td>1970-12-12</td>\n",
              "      <td>1.0</td>\n",
              "      <td>Zürich</td>\n",
              "      <td>1997-08-13</td>\n",
              "      <td>Men</td>\n",
              "      <td>800 m</td>\n",
              "    </tr>\n",
              "  </tbody>\n",
              "</table>\n",
              "</div>"
            ],
            "text/plain": [
              "   Rank             Time             Name  ...        Date Gender  Event\n",
              "0     1  00:01:40.910000    David Rudisha  ...  2012-09-08    Men  800 m\n",
              "1     2  00:01:41.010000    David Rudisha  ...  2010-08-29    Men  800 m\n",
              "2     3  00:01:41.090000    David Rudisha  ...  2010-08-22    Men  800 m\n",
              "3     4  00:01:41.110000  Wilson Kipketer  ...  1997-08-24    Men  800 m\n",
              "4     5  00:01:41.240000  Wilson Kipketer  ...  1997-08-13    Men  800 m\n",
              "\n",
              "[5 rows x 10 columns]"
            ]
          },
          "metadata": {
            "tags": []
          },
          "execution_count": 9
        }
      ]
    },
    {
      "cell_type": "code",
      "metadata": {
        "id": "DUkqpP1JEgAw",
        "colab_type": "code",
        "outputId": "92da07fa-834f-4761-e9cf-8f590cb49cf1",
        "colab": {
          "base_uri": "https://localhost:8080/",
          "height": 34
        }
      },
      "source": [
        "df['Time'][0]"
      ],
      "execution_count": 10,
      "outputs": [
        {
          "output_type": "execute_result",
          "data": {
            "text/plain": [
              "datetime.time(0, 1, 40, 910000)"
            ]
          },
          "metadata": {
            "tags": []
          },
          "execution_count": 10
        }
      ]
    },
    {
      "cell_type": "code",
      "metadata": {
        "id": "7FuTaAMl6vnB",
        "colab_type": "code",
        "colab": {}
      },
      "source": [
        "df2 = df.loc[:,['Rank','Time','Name','Country','Gender','Event']]"
      ],
      "execution_count": 0,
      "outputs": []
    },
    {
      "cell_type": "code",
      "metadata": {
        "id": "_6sVigQDFb_q",
        "colab_type": "code",
        "outputId": "c394064c-a737-41c9-962d-1f60d1661377",
        "colab": {
          "base_uri": "https://localhost:8080/",
          "height": 206
        }
      },
      "source": [
        "df2.head()"
      ],
      "execution_count": 12,
      "outputs": [
        {
          "output_type": "execute_result",
          "data": {
            "text/html": [
              "<div>\n",
              "<style scoped>\n",
              "    .dataframe tbody tr th:only-of-type {\n",
              "        vertical-align: middle;\n",
              "    }\n",
              "\n",
              "    .dataframe tbody tr th {\n",
              "        vertical-align: top;\n",
              "    }\n",
              "\n",
              "    .dataframe thead th {\n",
              "        text-align: right;\n",
              "    }\n",
              "</style>\n",
              "<table border=\"1\" class=\"dataframe\">\n",
              "  <thead>\n",
              "    <tr style=\"text-align: right;\">\n",
              "      <th></th>\n",
              "      <th>Rank</th>\n",
              "      <th>Time</th>\n",
              "      <th>Name</th>\n",
              "      <th>Country</th>\n",
              "      <th>Gender</th>\n",
              "      <th>Event</th>\n",
              "    </tr>\n",
              "  </thead>\n",
              "  <tbody>\n",
              "    <tr>\n",
              "      <th>0</th>\n",
              "      <td>1</td>\n",
              "      <td>00:01:40.910000</td>\n",
              "      <td>David Rudisha</td>\n",
              "      <td>KEN</td>\n",
              "      <td>Men</td>\n",
              "      <td>800 m</td>\n",
              "    </tr>\n",
              "    <tr>\n",
              "      <th>1</th>\n",
              "      <td>2</td>\n",
              "      <td>00:01:41.010000</td>\n",
              "      <td>David Rudisha</td>\n",
              "      <td>KEN</td>\n",
              "      <td>Men</td>\n",
              "      <td>800 m</td>\n",
              "    </tr>\n",
              "    <tr>\n",
              "      <th>2</th>\n",
              "      <td>3</td>\n",
              "      <td>00:01:41.090000</td>\n",
              "      <td>David Rudisha</td>\n",
              "      <td>KEN</td>\n",
              "      <td>Men</td>\n",
              "      <td>800 m</td>\n",
              "    </tr>\n",
              "    <tr>\n",
              "      <th>3</th>\n",
              "      <td>4</td>\n",
              "      <td>00:01:41.110000</td>\n",
              "      <td>Wilson Kipketer</td>\n",
              "      <td>DEN</td>\n",
              "      <td>Men</td>\n",
              "      <td>800 m</td>\n",
              "    </tr>\n",
              "    <tr>\n",
              "      <th>4</th>\n",
              "      <td>5</td>\n",
              "      <td>00:01:41.240000</td>\n",
              "      <td>Wilson Kipketer</td>\n",
              "      <td>DEN</td>\n",
              "      <td>Men</td>\n",
              "      <td>800 m</td>\n",
              "    </tr>\n",
              "  </tbody>\n",
              "</table>\n",
              "</div>"
            ],
            "text/plain": [
              "   Rank             Time             Name Country Gender  Event\n",
              "0     1  00:01:40.910000    David Rudisha     KEN    Men  800 m\n",
              "1     2  00:01:41.010000    David Rudisha     KEN    Men  800 m\n",
              "2     3  00:01:41.090000    David Rudisha     KEN    Men  800 m\n",
              "3     4  00:01:41.110000  Wilson Kipketer     DEN    Men  800 m\n",
              "4     5  00:01:41.240000  Wilson Kipketer     DEN    Men  800 m"
            ]
          },
          "metadata": {
            "tags": []
          },
          "execution_count": 12
        }
      ]
    },
    {
      "cell_type": "code",
      "metadata": {
        "id": "4XaqtRYoF_jX",
        "colab_type": "code",
        "outputId": "aaba9918-2021-4d36-aed5-f91bd11c0256",
        "colab": {
          "base_uri": "https://localhost:8080/",
          "height": 191
        }
      },
      "source": [
        "df2['Event'].value_counts()"
      ],
      "execution_count": 13,
      "outputs": [
        {
          "output_type": "execute_result",
          "data": {
            "text/plain": [
              "100 m            2167\n",
              "200 m            2039\n",
              "400 m            2019\n",
              "Half marathon    2019\n",
              "1500 m           2006\n",
              "800 m            2003\n",
              "5000 m           2002\n",
              "Marathon         1995\n",
              "10,000 m         1994\n",
              "Name: Event, dtype: int64"
            ]
          },
          "metadata": {
            "tags": []
          },
          "execution_count": 13
        }
      ]
    },
    {
      "cell_type": "code",
      "metadata": {
        "id": "Za8UuzhpFezZ",
        "colab_type": "code",
        "colab": {}
      },
      "source": [
        "dfMarathon = df2[df2['Event'] == 'Marathon']"
      ],
      "execution_count": 0,
      "outputs": []
    },
    {
      "cell_type": "code",
      "metadata": {
        "id": "8WVDLqZsFuwT",
        "colab_type": "code",
        "outputId": "8591eddb-b903-46b6-bf54-5599b1e540b0",
        "colab": {
          "base_uri": "https://localhost:8080/",
          "height": 206
        }
      },
      "source": [
        "dfMarathon.head()"
      ],
      "execution_count": 15,
      "outputs": [
        {
          "output_type": "execute_result",
          "data": {
            "text/html": [
              "<div>\n",
              "<style scoped>\n",
              "    .dataframe tbody tr th:only-of-type {\n",
              "        vertical-align: middle;\n",
              "    }\n",
              "\n",
              "    .dataframe tbody tr th {\n",
              "        vertical-align: top;\n",
              "    }\n",
              "\n",
              "    .dataframe thead th {\n",
              "        text-align: right;\n",
              "    }\n",
              "</style>\n",
              "<table border=\"1\" class=\"dataframe\">\n",
              "  <thead>\n",
              "    <tr style=\"text-align: right;\">\n",
              "      <th></th>\n",
              "      <th>Rank</th>\n",
              "      <th>Time</th>\n",
              "      <th>Name</th>\n",
              "      <th>Country</th>\n",
              "      <th>Gender</th>\n",
              "      <th>Event</th>\n",
              "    </tr>\n",
              "  </thead>\n",
              "  <tbody>\n",
              "    <tr>\n",
              "      <th>3001</th>\n",
              "      <td>1</td>\n",
              "      <td>02:02:57</td>\n",
              "      <td>Dennis Kimetto</td>\n",
              "      <td>KEN</td>\n",
              "      <td>Men</td>\n",
              "      <td>Marathon</td>\n",
              "    </tr>\n",
              "    <tr>\n",
              "      <th>3002</th>\n",
              "      <td>2</td>\n",
              "      <td>02:03:02</td>\n",
              "      <td>Geoffrey Mutai</td>\n",
              "      <td>KEN</td>\n",
              "      <td>Men</td>\n",
              "      <td>Marathon</td>\n",
              "    </tr>\n",
              "    <tr>\n",
              "      <th>3003</th>\n",
              "      <td>3</td>\n",
              "      <td>02:03:03</td>\n",
              "      <td>Kenenisa Bekele</td>\n",
              "      <td>ETH</td>\n",
              "      <td>Men</td>\n",
              "      <td>Marathon</td>\n",
              "    </tr>\n",
              "    <tr>\n",
              "      <th>3004</th>\n",
              "      <td>4</td>\n",
              "      <td>02:03:05</td>\n",
              "      <td>Eliud Kipchoge</td>\n",
              "      <td>KEN</td>\n",
              "      <td>Men</td>\n",
              "      <td>Marathon</td>\n",
              "    </tr>\n",
              "    <tr>\n",
              "      <th>3005</th>\n",
              "      <td>5</td>\n",
              "      <td>02:03:06</td>\n",
              "      <td>Moses Mosop</td>\n",
              "      <td>KEN</td>\n",
              "      <td>Men</td>\n",
              "      <td>Marathon</td>\n",
              "    </tr>\n",
              "  </tbody>\n",
              "</table>\n",
              "</div>"
            ],
            "text/plain": [
              "      Rank      Time             Name Country Gender     Event\n",
              "3001     1  02:02:57   Dennis Kimetto     KEN    Men  Marathon\n",
              "3002     2  02:03:02   Geoffrey Mutai     KEN    Men  Marathon\n",
              "3003     3  02:03:03  Kenenisa Bekele     ETH    Men  Marathon\n",
              "3004     4  02:03:05   Eliud Kipchoge     KEN    Men  Marathon\n",
              "3005     5  02:03:06      Moses Mosop     KEN    Men  Marathon"
            ]
          },
          "metadata": {
            "tags": []
          },
          "execution_count": 15
        }
      ]
    },
    {
      "cell_type": "code",
      "metadata": {
        "id": "WFHxFZTP7caG",
        "colab_type": "code",
        "colab": {}
      },
      "source": [
        "dfMarathonMen = dfMarathon[dfMarathon['Gender'] == 'Men']\n",
        "dfMarathonWomen = dfMarathon[dfMarathon['Gender'] == 'Women']"
      ],
      "execution_count": 0,
      "outputs": []
    },
    {
      "cell_type": "code",
      "metadata": {
        "id": "2d6f02k0Rcxm",
        "colab_type": "code",
        "outputId": "da359fef-6238-4c35-add6-578d13955994",
        "colab": {
          "base_uri": "https://localhost:8080/",
          "height": 143
        }
      },
      "source": [
        "dfMarathonMen.head(3)"
      ],
      "execution_count": 17,
      "outputs": [
        {
          "output_type": "execute_result",
          "data": {
            "text/html": [
              "<div>\n",
              "<style scoped>\n",
              "    .dataframe tbody tr th:only-of-type {\n",
              "        vertical-align: middle;\n",
              "    }\n",
              "\n",
              "    .dataframe tbody tr th {\n",
              "        vertical-align: top;\n",
              "    }\n",
              "\n",
              "    .dataframe thead th {\n",
              "        text-align: right;\n",
              "    }\n",
              "</style>\n",
              "<table border=\"1\" class=\"dataframe\">\n",
              "  <thead>\n",
              "    <tr style=\"text-align: right;\">\n",
              "      <th></th>\n",
              "      <th>Rank</th>\n",
              "      <th>Time</th>\n",
              "      <th>Name</th>\n",
              "      <th>Country</th>\n",
              "      <th>Gender</th>\n",
              "      <th>Event</th>\n",
              "    </tr>\n",
              "  </thead>\n",
              "  <tbody>\n",
              "    <tr>\n",
              "      <th>3001</th>\n",
              "      <td>1</td>\n",
              "      <td>02:02:57</td>\n",
              "      <td>Dennis Kimetto</td>\n",
              "      <td>KEN</td>\n",
              "      <td>Men</td>\n",
              "      <td>Marathon</td>\n",
              "    </tr>\n",
              "    <tr>\n",
              "      <th>3002</th>\n",
              "      <td>2</td>\n",
              "      <td>02:03:02</td>\n",
              "      <td>Geoffrey Mutai</td>\n",
              "      <td>KEN</td>\n",
              "      <td>Men</td>\n",
              "      <td>Marathon</td>\n",
              "    </tr>\n",
              "    <tr>\n",
              "      <th>3003</th>\n",
              "      <td>3</td>\n",
              "      <td>02:03:03</td>\n",
              "      <td>Kenenisa Bekele</td>\n",
              "      <td>ETH</td>\n",
              "      <td>Men</td>\n",
              "      <td>Marathon</td>\n",
              "    </tr>\n",
              "  </tbody>\n",
              "</table>\n",
              "</div>"
            ],
            "text/plain": [
              "      Rank      Time             Name Country Gender     Event\n",
              "3001     1  02:02:57   Dennis Kimetto     KEN    Men  Marathon\n",
              "3002     2  02:03:02   Geoffrey Mutai     KEN    Men  Marathon\n",
              "3003     3  02:03:03  Kenenisa Bekele     ETH    Men  Marathon"
            ]
          },
          "metadata": {
            "tags": []
          },
          "execution_count": 17
        }
      ]
    },
    {
      "cell_type": "code",
      "metadata": {
        "id": "ulu_vu0iKxEl",
        "colab_type": "code",
        "colab": {
          "base_uri": "https://localhost:8080/",
          "height": 143
        },
        "outputId": "222004a4-f678-4b84-8c42-ecaaa0c37bc7"
      },
      "source": [
        "dfMarathonMen.tail(3)"
      ],
      "execution_count": 18,
      "outputs": [
        {
          "output_type": "execute_result",
          "data": {
            "text/html": [
              "<div>\n",
              "<style scoped>\n",
              "    .dataframe tbody tr th:only-of-type {\n",
              "        vertical-align: middle;\n",
              "    }\n",
              "\n",
              "    .dataframe tbody tr th {\n",
              "        vertical-align: top;\n",
              "    }\n",
              "\n",
              "    .dataframe thead th {\n",
              "        text-align: right;\n",
              "    }\n",
              "</style>\n",
              "<table border=\"1\" class=\"dataframe\">\n",
              "  <thead>\n",
              "    <tr style=\"text-align: right;\">\n",
              "      <th></th>\n",
              "      <th>Rank</th>\n",
              "      <th>Time</th>\n",
              "      <th>Name</th>\n",
              "      <th>Country</th>\n",
              "      <th>Gender</th>\n",
              "      <th>Event</th>\n",
              "    </tr>\n",
              "  </thead>\n",
              "  <tbody>\n",
              "    <tr>\n",
              "      <th>3997</th>\n",
              "      <td>996</td>\n",
              "      <td>02:08:25</td>\n",
              "      <td>Daniel Kirwa Too</td>\n",
              "      <td>KEN</td>\n",
              "      <td>Men</td>\n",
              "      <td>Marathon</td>\n",
              "    </tr>\n",
              "    <tr>\n",
              "      <th>3998</th>\n",
              "      <td>996</td>\n",
              "      <td>02:08:25</td>\n",
              "      <td>Ishmael Bushendich</td>\n",
              "      <td>KEN</td>\n",
              "      <td>Men</td>\n",
              "      <td>Marathon</td>\n",
              "    </tr>\n",
              "    <tr>\n",
              "      <th>3999</th>\n",
              "      <td>996</td>\n",
              "      <td>02:08:25</td>\n",
              "      <td>Chala Dechase</td>\n",
              "      <td>ETH</td>\n",
              "      <td>Men</td>\n",
              "      <td>Marathon</td>\n",
              "    </tr>\n",
              "  </tbody>\n",
              "</table>\n",
              "</div>"
            ],
            "text/plain": [
              "      Rank      Time                Name Country Gender     Event\n",
              "3997   996  02:08:25    Daniel Kirwa Too     KEN    Men  Marathon\n",
              "3998   996  02:08:25  Ishmael Bushendich     KEN    Men  Marathon\n",
              "3999   996  02:08:25       Chala Dechase     ETH    Men  Marathon"
            ]
          },
          "metadata": {
            "tags": []
          },
          "execution_count": 18
        }
      ]
    },
    {
      "cell_type": "code",
      "metadata": {
        "id": "HcwO-syrGVon",
        "colab_type": "code",
        "outputId": "1a9e9c51-056b-4ab7-9f91-28218b46c658",
        "colab": {
          "base_uri": "https://localhost:8080/",
          "height": 143
        }
      },
      "source": [
        "dfMarathonWomen.head(3)"
      ],
      "execution_count": 19,
      "outputs": [
        {
          "output_type": "execute_result",
          "data": {
            "text/html": [
              "<div>\n",
              "<style scoped>\n",
              "    .dataframe tbody tr th:only-of-type {\n",
              "        vertical-align: middle;\n",
              "    }\n",
              "\n",
              "    .dataframe tbody tr th {\n",
              "        vertical-align: top;\n",
              "    }\n",
              "\n",
              "    .dataframe thead th {\n",
              "        text-align: right;\n",
              "    }\n",
              "</style>\n",
              "<table border=\"1\" class=\"dataframe\">\n",
              "  <thead>\n",
              "    <tr style=\"text-align: right;\">\n",
              "      <th></th>\n",
              "      <th>Rank</th>\n",
              "      <th>Time</th>\n",
              "      <th>Name</th>\n",
              "      <th>Country</th>\n",
              "      <th>Gender</th>\n",
              "      <th>Event</th>\n",
              "    </tr>\n",
              "  </thead>\n",
              "  <tbody>\n",
              "    <tr>\n",
              "      <th>15244</th>\n",
              "      <td>1</td>\n",
              "      <td>02:15:25</td>\n",
              "      <td>Paula Radcliffe</td>\n",
              "      <td>GBR</td>\n",
              "      <td>Women</td>\n",
              "      <td>Marathon</td>\n",
              "    </tr>\n",
              "    <tr>\n",
              "      <th>15245</th>\n",
              "      <td>2</td>\n",
              "      <td>02:17:01</td>\n",
              "      <td>Mary Keitany</td>\n",
              "      <td>KEN</td>\n",
              "      <td>Women</td>\n",
              "      <td>Marathon</td>\n",
              "    </tr>\n",
              "    <tr>\n",
              "      <th>15246</th>\n",
              "      <td>3</td>\n",
              "      <td>02:17:18</td>\n",
              "      <td>Paula Radcliffe</td>\n",
              "      <td>GBR</td>\n",
              "      <td>Women</td>\n",
              "      <td>Marathon</td>\n",
              "    </tr>\n",
              "  </tbody>\n",
              "</table>\n",
              "</div>"
            ],
            "text/plain": [
              "       Rank      Time             Name Country Gender     Event\n",
              "15244     1  02:15:25  Paula Radcliffe     GBR  Women  Marathon\n",
              "15245     2  02:17:01     Mary Keitany     KEN  Women  Marathon\n",
              "15246     3  02:17:18  Paula Radcliffe     GBR  Women  Marathon"
            ]
          },
          "metadata": {
            "tags": []
          },
          "execution_count": 19
        }
      ]
    },
    {
      "cell_type": "code",
      "metadata": {
        "id": "YehijzhrK0Cd",
        "colab_type": "code",
        "colab": {
          "base_uri": "https://localhost:8080/",
          "height": 143
        },
        "outputId": "fdbf7680-0713-4f7e-88a6-cdd87a20daa7"
      },
      "source": [
        "dfMarathonWomen.tail(3)"
      ],
      "execution_count": 20,
      "outputs": [
        {
          "output_type": "execute_result",
          "data": {
            "text/html": [
              "<div>\n",
              "<style scoped>\n",
              "    .dataframe tbody tr th:only-of-type {\n",
              "        vertical-align: middle;\n",
              "    }\n",
              "\n",
              "    .dataframe tbody tr th {\n",
              "        vertical-align: top;\n",
              "    }\n",
              "\n",
              "    .dataframe thead th {\n",
              "        text-align: right;\n",
              "    }\n",
              "</style>\n",
              "<table border=\"1\" class=\"dataframe\">\n",
              "  <thead>\n",
              "    <tr style=\"text-align: right;\">\n",
              "      <th></th>\n",
              "      <th>Rank</th>\n",
              "      <th>Time</th>\n",
              "      <th>Name</th>\n",
              "      <th>Country</th>\n",
              "      <th>Gender</th>\n",
              "      <th>Event</th>\n",
              "    </tr>\n",
              "  </thead>\n",
              "  <tbody>\n",
              "    <tr>\n",
              "      <th>16237</th>\n",
              "      <td>997</td>\n",
              "      <td>02:26:24</td>\n",
              "      <td>Silviya Skvortsova</td>\n",
              "      <td>RUS</td>\n",
              "      <td>Women</td>\n",
              "      <td>Marathon</td>\n",
              "    </tr>\n",
              "    <tr>\n",
              "      <th>16238</th>\n",
              "      <td>997</td>\n",
              "      <td>02:26:24</td>\n",
              "      <td>Tatyana Filonyuk</td>\n",
              "      <td>UKR</td>\n",
              "      <td>Women</td>\n",
              "      <td>Marathon</td>\n",
              "    </tr>\n",
              "    <tr>\n",
              "      <th>16239</th>\n",
              "      <td>997</td>\n",
              "      <td>02:26:24</td>\n",
              "      <td>Melkaw Gizaw</td>\n",
              "      <td>ETH</td>\n",
              "      <td>Women</td>\n",
              "      <td>Marathon</td>\n",
              "    </tr>\n",
              "  </tbody>\n",
              "</table>\n",
              "</div>"
            ],
            "text/plain": [
              "       Rank      Time                Name Country Gender     Event\n",
              "16237   997  02:26:24  Silviya Skvortsova     RUS  Women  Marathon\n",
              "16238   997  02:26:24    Tatyana Filonyuk     UKR  Women  Marathon\n",
              "16239   997  02:26:24        Melkaw Gizaw     ETH  Women  Marathon"
            ]
          },
          "metadata": {
            "tags": []
          },
          "execution_count": 20
        }
      ]
    },
    {
      "cell_type": "code",
      "metadata": {
        "id": "0PWdbhmXGX1_",
        "colab_type": "code",
        "outputId": "ec3bfbc9-4567-454d-a704-000f53e820be",
        "colab": {
          "base_uri": "https://localhost:8080/",
          "height": 34
        }
      },
      "source": [
        "dfMarathonMen.shape"
      ],
      "execution_count": 21,
      "outputs": [
        {
          "output_type": "execute_result",
          "data": {
            "text/plain": [
              "(999, 6)"
            ]
          },
          "metadata": {
            "tags": []
          },
          "execution_count": 21
        }
      ]
    },
    {
      "cell_type": "code",
      "metadata": {
        "id": "9fLEHOQlGaVl",
        "colab_type": "code",
        "outputId": "f3e54634-50db-4458-83ed-9fd160d52f14",
        "colab": {
          "base_uri": "https://localhost:8080/",
          "height": 34
        }
      },
      "source": [
        "dfMarathonWomen.shape"
      ],
      "execution_count": 22,
      "outputs": [
        {
          "output_type": "execute_result",
          "data": {
            "text/plain": [
              "(996, 6)"
            ]
          },
          "metadata": {
            "tags": []
          },
          "execution_count": 22
        }
      ]
    },
    {
      "cell_type": "code",
      "metadata": {
        "id": "7dmN0535Ig22",
        "colab_type": "code",
        "colab": {}
      },
      "source": [
        "import matplotlib.pyplot as plt"
      ],
      "execution_count": 0,
      "outputs": []
    },
    {
      "cell_type": "code",
      "metadata": {
        "id": "s8Qkqy8hIjl0",
        "colab_type": "code",
        "outputId": "ebb61895-8518-49eb-f8dd-c1c7385b4758",
        "colab": {
          "base_uri": "https://localhost:8080/",
          "height": 295
        }
      },
      "source": [
        "plt.plot(dfMarathonMen['Rank'],dfMarathonMen['Time'])\n",
        "plt.plot(dfMarathonWomen['Rank'],dfMarathonWomen['Time'])\n",
        "plt.title('Top 1000 Marathon Runner Times')\n",
        "plt.xlabel('Rank')\n",
        "plt.ylabel('Time')\n",
        "plt.annotate(xy=[60,7650], s='Men')\n",
        "plt.annotate(xy=[100,8400], s='Women')\n",
        "#plt.ylim(0,9000)\n",
        "plt.show()"
      ],
      "execution_count": 24,
      "outputs": [
        {
          "output_type": "display_data",
          "data": {
            "image/png": "[encoded data removed]",
            "text/plain": [
              "<Figure size 432x288 with 1 Axes>"
            ]
          },
          "metadata": {
            "tags": []
          }
        }
      ]
    },
    {
      "cell_type": "code",
      "metadata": {
        "id": "k2SYnJ72Lz0B",
        "colab_type": "code",
        "outputId": "446cfed3-e95e-4ff9-dd5c-fe7de252a846",
        "colab": {
          "base_uri": "https://localhost:8080/",
          "height": 521
        }
      },
      "source": [
        "dfMarathonMen['Country'].value_counts()"
      ],
      "execution_count": 25,
      "outputs": [
        {
          "output_type": "execute_result",
          "data": {
            "text/plain": [
              "KEN    576\n",
              "ETH    231\n",
              "MAR     34\n",
              "JPN     30\n",
              "ESP     21\n",
              "RSA     15\n",
              "ERI     13\n",
              "USA      9\n",
              "UGA      8\n",
              "KOR      7\n",
              "ITA      7\n",
              "FRA      6\n",
              "GBR      5\n",
              "POR      5\n",
              "QAT      4\n",
              "UKR      3\n",
              "AUS      3\n",
              "TAN      3\n",
              "BRA      3\n",
              "DJI      3\n",
              "BRN      3\n",
              "SUI      3\n",
              "BEL      2\n",
              "POL      1\n",
              "CHN      1\n",
              "MEX      1\n",
              "NED      1\n",
              "TUR      1\n",
              "Name: Country, dtype: int64"
            ]
          },
          "metadata": {
            "tags": []
          },
          "execution_count": 25
        }
      ]
    },
    {
      "cell_type": "code",
      "metadata": {
        "id": "PedZcYkALuSU",
        "colab_type": "code",
        "colab": {
          "base_uri": "https://localhost:8080/",
          "height": 325
        },
        "outputId": "bf660d42-f027-48bb-daac-838c75783729"
      },
      "source": [
        "ax = dfMarathonMen['Country'].value_counts(normalize=True).plot(kind='bar',title='Top 1000 Men Runners by Country')\n",
        "plt.ylim(0,1)\n",
        "ax.set_ylabel(\"Ratio of runners from the country\")\n",
        "ax.set_xlabel(\"Country\")"
      ],
      "execution_count": 26,
      "outputs": [
        {
          "output_type": "execute_result",
          "data": {
            "text/plain": [
              "Text(0.5, 0, 'Country')"
            ]
          },
          "metadata": {
            "tags": []
          },
          "execution_count": 26
        },
        {
          "output_type": "display_data",
          "data": {
            "image/png": "[encoded data removed]",
            "text/plain": [
              "<Figure size 432x288 with 1 Axes>"
            ]
          },
          "metadata": {
            "tags": []
          }
        }
      ]
    },
    {
      "cell_type": "code",
      "metadata": {
        "id": "ALz3LIeAQ-17",
        "colab_type": "code",
        "outputId": "8bc5982c-7d93-4b77-eefa-717b4ac6f9bc",
        "colab": {
          "base_uri": "https://localhost:8080/",
          "height": 69
        }
      },
      "source": [
        "dfMarathonMen['Country'].head(10).value_counts()"
      ],
      "execution_count": 27,
      "outputs": [
        {
          "output_type": "execute_result",
          "data": {
            "text/plain": [
              "KEN    9\n",
              "ETH    1\n",
              "Name: Country, dtype: int64"
            ]
          },
          "metadata": {
            "tags": []
          },
          "execution_count": 27
        }
      ]
    },
    {
      "cell_type": "code",
      "metadata": {
        "id": "-lRlijQ_OIsB",
        "colab_type": "code",
        "colab": {
          "base_uri": "https://localhost:8080/",
          "height": 323
        },
        "outputId": "afcd7444-5f12-4b7f-f8bc-338441da9c38"
      },
      "source": [
        "ax = dfMarathonMen['Country'].head(10).value_counts(normalize=True).plot(kind='bar',title='Top 100 Men Runners by Country')\n",
        "plt.ylim(0,1)\n",
        "ax.set_ylabel(\"Ratio of runners from the country\")\n",
        "ax.set_xlabel(\"Country\")"
      ],
      "execution_count": 28,
      "outputs": [
        {
          "output_type": "execute_result",
          "data": {
            "text/plain": [
              "Text(0.5, 0, 'Country')"
            ]
          },
          "metadata": {
            "tags": []
          },
          "execution_count": 28
        },
        {
          "output_type": "display_data",
          "data": {
            "image/png": "[encoded data removed]",
            "text/plain": [
              "<Figure size 432x288 with 1 Axes>"
            ]
          },
          "metadata": {
            "tags": []
          }
        }
      ]
    },
    {
      "cell_type": "code",
      "metadata": {
        "id": "2EEDzuxEL319",
        "colab_type": "code",
        "outputId": "63478a29-d5c7-472e-bd38-0bb6b359ba7c",
        "colab": {
          "base_uri": "https://localhost:8080/",
          "height": 712
        }
      },
      "source": [
        "dfMarathonWomen['Country'].value_counts()"
      ],
      "execution_count": 29,
      "outputs": [
        {
          "output_type": "execute_result",
          "data": {
            "text/plain": [
              "ETH    306\n",
              "KEN    222\n",
              "JPN    131\n",
              "RUS     56\n",
              "CHN     52\n",
              "USA     26\n",
              "POR     24\n",
              "GER     24\n",
              "ROU     20\n",
              "GBR     16\n",
              "ITA     15\n",
              "NOR     12\n",
              "LAT     11\n",
              "AUS     10\n",
              "BRN     10\n",
              "NED      6\n",
              "MEX      6\n",
              "BEL      6\n",
              "UKR      5\n",
              "BLR      4\n",
              "POL      4\n",
              "PRK      4\n",
              "SWE      4\n",
              "FRA      3\n",
              "TUR      2\n",
              "IRL      2\n",
              "NZL      2\n",
              "KOR      2\n",
              "SUI      1\n",
              "NAM      1\n",
              "ALG      1\n",
              "CZE      1\n",
              "CRO      1\n",
              "RSA      1\n",
              "LTU      1\n",
              "MAR      1\n",
              "TAN      1\n",
              "SRB      1\n",
              "COL      1\n",
              "Name: Country, dtype: int64"
            ]
          },
          "metadata": {
            "tags": []
          },
          "execution_count": 29
        }
      ]
    },
    {
      "cell_type": "code",
      "metadata": {
        "id": "YRGqTeD7PeZW",
        "colab_type": "code",
        "colab": {
          "base_uri": "https://localhost:8080/",
          "height": 325
        },
        "outputId": "e82403f0-aaec-4bb5-c539-c2d15970279a"
      },
      "source": [
        "ax = dfMarathonWomen['Country'].value_counts(normalize=True).plot(kind='bar',title='Top 1000 Women Runners by Country')\n",
        "plt.ylim(0,1)\n",
        "ax.set_ylabel(\"Ratio of runners from the country\")\n",
        "ax.set_xlabel(\"Country\")"
      ],
      "execution_count": 30,
      "outputs": [
        {
          "output_type": "execute_result",
          "data": {
            "text/plain": [
              "Text(0.5, 0, 'Country')"
            ]
          },
          "metadata": {
            "tags": []
          },
          "execution_count": 30
        },
        {
          "output_type": "display_data",
          "data": {
            "image/png": "[encoded data removed]",
            "text/plain": [
              "<Figure size 432x288 with 1 Axes>"
            ]
          },
          "metadata": {
            "tags": []
          }
        }
      ]
    },
    {
      "cell_type": "code",
      "metadata": {
        "id": "NiiLeh0XRHAj",
        "colab_type": "code",
        "outputId": "e17f12d7-6cf0-42c5-fa52-9127ffbcb7c9",
        "colab": {
          "base_uri": "https://localhost:8080/",
          "height": 86
        }
      },
      "source": [
        "dfMarathonWomen['Country'].head(10).value_counts()"
      ],
      "execution_count": 31,
      "outputs": [
        {
          "output_type": "execute_result",
          "data": {
            "text/plain": [
              "GBR    4\n",
              "KEN    4\n",
              "ETH    2\n",
              "Name: Country, dtype: int64"
            ]
          },
          "metadata": {
            "tags": []
          },
          "execution_count": 31
        }
      ]
    },
    {
      "cell_type": "code",
      "metadata": {
        "id": "U3gQaJy8P3_U",
        "colab_type": "code",
        "colab": {
          "base_uri": "https://localhost:8080/",
          "height": 324
        },
        "outputId": "df58170f-e101-469c-f1fb-81377b9ef8d8"
      },
      "source": [
        "ax = dfMarathonWomen['Country'].head(10).value_counts(normalize=True).plot(kind='bar',title='Top 10 Women Runners by Country')\n",
        "plt.ylim(0,1)\n",
        "ax.set_ylabel(\"Ratio of runners from the country\")\n",
        "ax.set_xlabel(\"Country\")"
      ],
      "execution_count": 32,
      "outputs": [
        {
          "output_type": "execute_result",
          "data": {
            "text/plain": [
              "Text(0.5, 0, 'Country')"
            ]
          },
          "metadata": {
            "tags": []
          },
          "execution_count": 32
        },
        {
          "output_type": "display_data",
          "data": {
            "image/png": "[encoded data removed]",
            "text/plain": [
              "<Figure size 432x288 with 1 Axes>"
            ]
          },
          "metadata": {
            "tags": []
          }
        }
      ]
    },
    {
      "cell_type": "code",
      "metadata": {
        "id": "bqzQ502-P63r",
        "colab_type": "code",
        "colab": {}
      },
      "source": [
        ""
      ],
      "execution_count": 0,
      "outputs": []
    }
  ]
}